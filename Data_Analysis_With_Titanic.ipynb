{
  "nbformat": 4,
  "nbformat_minor": 0,
  "metadata": {
    "colab": {
      "provenance": [],
      "collapsed_sections": [
        "3jY-BgoDZGUE",
        "aURpSXH0ZRCg"
      ]
    },
    "kernelspec": {
      "name": "python3",
      "display_name": "Python 3"
    },
    "language_info": {
      "name": "python"
    }
  },
  "cells": [
    {
      "cell_type": "markdown",
      "source": [
        "#0.Kết nối Google drive"
      ],
      "metadata": {
        "id": "6RchaFSbpxnW"
      }
    },
    {
      "cell_type": "code",
      "execution_count": 2,
      "metadata": {
        "colab": {
          "base_uri": "https://localhost:8080/"
        },
        "id": "700fP0EysEga",
        "outputId": "983aa51b-1f5f-4ec5-ba09-90115df5841b"
      },
      "outputs": [
        {
          "output_type": "stream",
          "name": "stdout",
          "text": [
            "Mounted at /content/drive\n"
          ]
        }
      ],
      "source": [
        "from google.colab import drive\n",
        "drive.mount('/content/drive')"
      ]
    },
    {
      "cell_type": "code",
      "source": [
        "%cd /content/drive/MyDrive/DA_TITANIT"
      ],
      "metadata": {
        "colab": {
          "base_uri": "https://localhost:8080/"
        },
        "id": "NB_jxOSmtOub",
        "outputId": "c5004e6d-0a79-4cee-fb1c-93633508d226"
      },
      "execution_count": 3,
      "outputs": [
        {
          "output_type": "stream",
          "name": "stdout",
          "text": [
            "/content/drive/MyDrive/DA_TITANIT\n"
          ]
        }
      ]
    },
    {
      "cell_type": "markdown",
      "source": [
        "#1.Cài đặt và nhập thư viện cần thiết"
      ],
      "metadata": {
        "id": "3jY-BgoDZGUE"
      }
    },
    {
      "cell_type": "code",
      "source": [
        "!pip install fancyimpute"
      ],
      "metadata": {
        "id": "M_ug_xGDMvaX"
      },
      "execution_count": null,
      "outputs": []
    },
    {
      "cell_type": "code",
      "source": [
        "import pandas as pd\n",
        "import numpy as np\n",
        "import seaborn as sns\n",
        "import matplotlib.pyplot as plt\n",
        "from sklearn.model_selection import train_test_split\n",
        "from sklearn.linear_model import LogisticRegression\n",
        "from sklearn.metrics import accuracy_score, f1_score, mean_squared_error"
      ],
      "metadata": {
        "id": "u20cdy6HtS50"
      },
      "execution_count": 24,
      "outputs": []
    },
    {
      "cell_type": "markdown",
      "source": [
        "# 2.Tải và kiểm tra dữ liệu Titanic"
      ],
      "metadata": {
        "id": "9Tll9U5aZKY2"
      }
    },
    {
      "cell_type": "markdown",
      "source": [
        "**Ý nghĩa của các cột**\n",
        "\n",
        "- **PassengerId**: Số thứ tự của từng hành khách.\n",
        "- **Survived**: Hành khác có sống sót hay không (1 = sống sót, 0 = không sống sót).\n",
        "- **Pclass**: Hạng vé của hành khách, phản ánh tầng lớp kinh tế-xã hội của hành khách đó (social-economic status).\n",
        "    + 1: Hạng vé thấp.\n",
        "    + 2: Hạng vé trung bình.\n",
        "    + 3: Hạng vé cao cấp.\n",
        "- **Name**: Tên hành khách (Họ, Tên).\n",
        "- **Sex**: Giới tính của hành khách.\n",
        "- **male**: nam.\n",
        "- **female**: nữ.\n",
        "- **Age**: Tuổi của hành khách.\n",
        "- **SibSp**: Số anh/chị/em hoặc vợ/chồng có trên tàu Titanic.\n",
        "- **Parch**: Số cha/mẹ hoặc con trên có trên tàu Titanic.\n",
        "- **Ticket**: Số vé của hành khách.\n",
        "- **Fare**: Giá vé của hành khách.\n",
        "- **Cabin**: Số cabin của hành khách.\n",
        "- **Embarked**: Điểm lên tàu của hành khách.\n",
        "    + C = Cherbourg.\n",
        "    + Q = Queenstown.\n",
        "    + S = Southampton."
      ],
      "metadata": {
        "id": "tBwSlWOHd84H"
      }
    },
    {
      "cell_type": "code",
      "source": [
        "# Đọc dữ liệu titanic\n",
        "df = pd.read_csv('titanic.csv')"
      ],
      "metadata": {
        "id": "VP22QUGPMmxv"
      },
      "execution_count": 199,
      "outputs": []
    },
    {
      "cell_type": "code",
      "source": [
        "df.head() # hiển thị 5 hàng đầu tiên"
      ],
      "metadata": {
        "colab": {
          "base_uri": "https://localhost:8080/",
          "height": 275
        },
        "id": "2tHrmgsJNMyL",
        "outputId": "b08516f7-95df-4ec5-9069-d68bcfd9a84c"
      },
      "execution_count": 26,
      "outputs": [
        {
          "output_type": "execute_result",
          "data": {
            "text/plain": [
              "   Unnamed: 0  PassengerId  Survived  Pclass  \\\n",
              "0           0            1       0.0       3   \n",
              "1           1            2       1.0       1   \n",
              "2           2            3       1.0       3   \n",
              "3           3            4       1.0       1   \n",
              "4           4            5       0.0       3   \n",
              "\n",
              "                                                Name     Sex   Age  SibSp  \\\n",
              "0                            Braund, Mr. Owen Harris    male  22.0      1   \n",
              "1  Cumings, Mrs. John Bradley (Florence Briggs Th...  female  38.0      1   \n",
              "2                             Heikkinen, Miss. Laina  female  26.0      0   \n",
              "3       Futrelle, Mrs. Jacques Heath (Lily May Peel)  female  35.0      1   \n",
              "4                           Allen, Mr. William Henry    male  35.0      0   \n",
              "\n",
              "   Parch            Ticket     Fare Cabin Embarked  \n",
              "0      0         A/5 21171   7.2500   NaN        S  \n",
              "1      0          PC 17599  71.2833   C85        C  \n",
              "2      0  STON/O2. 3101282   7.9250   NaN        S  \n",
              "3      0            113803  53.1000  C123        S  \n",
              "4      0            373450   8.0500   NaN        S  "
            ],
            "text/html": [
              "\n",
              "  <div id=\"df-7664e40f-ebb8-4b32-aa53-df3deb31c331\" class=\"colab-df-container\">\n",
              "    <div>\n",
              "<style scoped>\n",
              "    .dataframe tbody tr th:only-of-type {\n",
              "        vertical-align: middle;\n",
              "    }\n",
              "\n",
              "    .dataframe tbody tr th {\n",
              "        vertical-align: top;\n",
              "    }\n",
              "\n",
              "    .dataframe thead th {\n",
              "        text-align: right;\n",
              "    }\n",
              "</style>\n",
              "<table border=\"1\" class=\"dataframe\">\n",
              "  <thead>\n",
              "    <tr style=\"text-align: right;\">\n",
              "      <th></th>\n",
              "      <th>Unnamed: 0</th>\n",
              "      <th>PassengerId</th>\n",
              "      <th>Survived</th>\n",
              "      <th>Pclass</th>\n",
              "      <th>Name</th>\n",
              "      <th>Sex</th>\n",
              "      <th>Age</th>\n",
              "      <th>SibSp</th>\n",
              "      <th>Parch</th>\n",
              "      <th>Ticket</th>\n",
              "      <th>Fare</th>\n",
              "      <th>Cabin</th>\n",
              "      <th>Embarked</th>\n",
              "    </tr>\n",
              "  </thead>\n",
              "  <tbody>\n",
              "    <tr>\n",
              "      <th>0</th>\n",
              "      <td>0</td>\n",
              "      <td>1</td>\n",
              "      <td>0.0</td>\n",
              "      <td>3</td>\n",
              "      <td>Braund, Mr. Owen Harris</td>\n",
              "      <td>male</td>\n",
              "      <td>22.0</td>\n",
              "      <td>1</td>\n",
              "      <td>0</td>\n",
              "      <td>A/5 21171</td>\n",
              "      <td>7.2500</td>\n",
              "      <td>NaN</td>\n",
              "      <td>S</td>\n",
              "    </tr>\n",
              "    <tr>\n",
              "      <th>1</th>\n",
              "      <td>1</td>\n",
              "      <td>2</td>\n",
              "      <td>1.0</td>\n",
              "      <td>1</td>\n",
              "      <td>Cumings, Mrs. John Bradley (Florence Briggs Th...</td>\n",
              "      <td>female</td>\n",
              "      <td>38.0</td>\n",
              "      <td>1</td>\n",
              "      <td>0</td>\n",
              "      <td>PC 17599</td>\n",
              "      <td>71.2833</td>\n",
              "      <td>C85</td>\n",
              "      <td>C</td>\n",
              "    </tr>\n",
              "    <tr>\n",
              "      <th>2</th>\n",
              "      <td>2</td>\n",
              "      <td>3</td>\n",
              "      <td>1.0</td>\n",
              "      <td>3</td>\n",
              "      <td>Heikkinen, Miss. Laina</td>\n",
              "      <td>female</td>\n",
              "      <td>26.0</td>\n",
              "      <td>0</td>\n",
              "      <td>0</td>\n",
              "      <td>STON/O2. 3101282</td>\n",
              "      <td>7.9250</td>\n",
              "      <td>NaN</td>\n",
              "      <td>S</td>\n",
              "    </tr>\n",
              "    <tr>\n",
              "      <th>3</th>\n",
              "      <td>3</td>\n",
              "      <td>4</td>\n",
              "      <td>1.0</td>\n",
              "      <td>1</td>\n",
              "      <td>Futrelle, Mrs. Jacques Heath (Lily May Peel)</td>\n",
              "      <td>female</td>\n",
              "      <td>35.0</td>\n",
              "      <td>1</td>\n",
              "      <td>0</td>\n",
              "      <td>113803</td>\n",
              "      <td>53.1000</td>\n",
              "      <td>C123</td>\n",
              "      <td>S</td>\n",
              "    </tr>\n",
              "    <tr>\n",
              "      <th>4</th>\n",
              "      <td>4</td>\n",
              "      <td>5</td>\n",
              "      <td>0.0</td>\n",
              "      <td>3</td>\n",
              "      <td>Allen, Mr. William Henry</td>\n",
              "      <td>male</td>\n",
              "      <td>35.0</td>\n",
              "      <td>0</td>\n",
              "      <td>0</td>\n",
              "      <td>373450</td>\n",
              "      <td>8.0500</td>\n",
              "      <td>NaN</td>\n",
              "      <td>S</td>\n",
              "    </tr>\n",
              "  </tbody>\n",
              "</table>\n",
              "</div>\n",
              "    <div class=\"colab-df-buttons\">\n",
              "\n",
              "  <div class=\"colab-df-container\">\n",
              "    <button class=\"colab-df-convert\" onclick=\"convertToInteractive('df-7664e40f-ebb8-4b32-aa53-df3deb31c331')\"\n",
              "            title=\"Convert this dataframe to an interactive table.\"\n",
              "            style=\"display:none;\">\n",
              "\n",
              "  <svg xmlns=\"http://www.w3.org/2000/svg\" height=\"24px\" viewBox=\"0 -960 960 960\">\n",
              "    <path d=\"M120-120v-720h720v720H120Zm60-500h600v-160H180v160Zm220 220h160v-160H400v160Zm0 220h160v-160H400v160ZM180-400h160v-160H180v160Zm440 0h160v-160H620v160ZM180-180h160v-160H180v160Zm440 0h160v-160H620v160Z\"/>\n",
              "  </svg>\n",
              "    </button>\n",
              "\n",
              "  <style>\n",
              "    .colab-df-container {\n",
              "      display:flex;\n",
              "      gap: 12px;\n",
              "    }\n",
              "\n",
              "    .colab-df-convert {\n",
              "      background-color: #E8F0FE;\n",
              "      border: none;\n",
              "      border-radius: 50%;\n",
              "      cursor: pointer;\n",
              "      display: none;\n",
              "      fill: #1967D2;\n",
              "      height: 32px;\n",
              "      padding: 0 0 0 0;\n",
              "      width: 32px;\n",
              "    }\n",
              "\n",
              "    .colab-df-convert:hover {\n",
              "      background-color: #E2EBFA;\n",
              "      box-shadow: 0px 1px 2px rgba(60, 64, 67, 0.3), 0px 1px 3px 1px rgba(60, 64, 67, 0.15);\n",
              "      fill: #174EA6;\n",
              "    }\n",
              "\n",
              "    .colab-df-buttons div {\n",
              "      margin-bottom: 4px;\n",
              "    }\n",
              "\n",
              "    [theme=dark] .colab-df-convert {\n",
              "      background-color: #3B4455;\n",
              "      fill: #D2E3FC;\n",
              "    }\n",
              "\n",
              "    [theme=dark] .colab-df-convert:hover {\n",
              "      background-color: #434B5C;\n",
              "      box-shadow: 0px 1px 3px 1px rgba(0, 0, 0, 0.15);\n",
              "      filter: drop-shadow(0px 1px 2px rgba(0, 0, 0, 0.3));\n",
              "      fill: #FFFFFF;\n",
              "    }\n",
              "  </style>\n",
              "\n",
              "    <script>\n",
              "      const buttonEl =\n",
              "        document.querySelector('#df-7664e40f-ebb8-4b32-aa53-df3deb31c331 button.colab-df-convert');\n",
              "      buttonEl.style.display =\n",
              "        google.colab.kernel.accessAllowed ? 'block' : 'none';\n",
              "\n",
              "      async function convertToInteractive(key) {\n",
              "        const element = document.querySelector('#df-7664e40f-ebb8-4b32-aa53-df3deb31c331');\n",
              "        const dataTable =\n",
              "          await google.colab.kernel.invokeFunction('convertToInteractive',\n",
              "                                                    [key], {});\n",
              "        if (!dataTable) return;\n",
              "\n",
              "        const docLinkHtml = 'Like what you see? Visit the ' +\n",
              "          '<a target=\"_blank\" href=https://colab.research.google.com/notebooks/data_table.ipynb>data table notebook</a>'\n",
              "          + ' to learn more about interactive tables.';\n",
              "        element.innerHTML = '';\n",
              "        dataTable['output_type'] = 'display_data';\n",
              "        await google.colab.output.renderOutput(dataTable, element);\n",
              "        const docLink = document.createElement('div');\n",
              "        docLink.innerHTML = docLinkHtml;\n",
              "        element.appendChild(docLink);\n",
              "      }\n",
              "    </script>\n",
              "  </div>\n",
              "\n",
              "\n",
              "<div id=\"df-a7415b31-0f9d-454c-a1c8-08991ecbaaef\">\n",
              "  <button class=\"colab-df-quickchart\" onclick=\"quickchart('df-a7415b31-0f9d-454c-a1c8-08991ecbaaef')\"\n",
              "            title=\"Suggest charts\"\n",
              "            style=\"display:none;\">\n",
              "\n",
              "<svg xmlns=\"http://www.w3.org/2000/svg\" height=\"24px\"viewBox=\"0 0 24 24\"\n",
              "     width=\"24px\">\n",
              "    <g>\n",
              "        <path d=\"M19 3H5c-1.1 0-2 .9-2 2v14c0 1.1.9 2 2 2h14c1.1 0 2-.9 2-2V5c0-1.1-.9-2-2-2zM9 17H7v-7h2v7zm4 0h-2V7h2v10zm4 0h-2v-4h2v4z\"/>\n",
              "    </g>\n",
              "</svg>\n",
              "  </button>\n",
              "\n",
              "<style>\n",
              "  .colab-df-quickchart {\n",
              "      --bg-color: #E8F0FE;\n",
              "      --fill-color: #1967D2;\n",
              "      --hover-bg-color: #E2EBFA;\n",
              "      --hover-fill-color: #174EA6;\n",
              "      --disabled-fill-color: #AAA;\n",
              "      --disabled-bg-color: #DDD;\n",
              "  }\n",
              "\n",
              "  [theme=dark] .colab-df-quickchart {\n",
              "      --bg-color: #3B4455;\n",
              "      --fill-color: #D2E3FC;\n",
              "      --hover-bg-color: #434B5C;\n",
              "      --hover-fill-color: #FFFFFF;\n",
              "      --disabled-bg-color: #3B4455;\n",
              "      --disabled-fill-color: #666;\n",
              "  }\n",
              "\n",
              "  .colab-df-quickchart {\n",
              "    background-color: var(--bg-color);\n",
              "    border: none;\n",
              "    border-radius: 50%;\n",
              "    cursor: pointer;\n",
              "    display: none;\n",
              "    fill: var(--fill-color);\n",
              "    height: 32px;\n",
              "    padding: 0;\n",
              "    width: 32px;\n",
              "  }\n",
              "\n",
              "  .colab-df-quickchart:hover {\n",
              "    background-color: var(--hover-bg-color);\n",
              "    box-shadow: 0 1px 2px rgba(60, 64, 67, 0.3), 0 1px 3px 1px rgba(60, 64, 67, 0.15);\n",
              "    fill: var(--button-hover-fill-color);\n",
              "  }\n",
              "\n",
              "  .colab-df-quickchart-complete:disabled,\n",
              "  .colab-df-quickchart-complete:disabled:hover {\n",
              "    background-color: var(--disabled-bg-color);\n",
              "    fill: var(--disabled-fill-color);\n",
              "    box-shadow: none;\n",
              "  }\n",
              "\n",
              "  .colab-df-spinner {\n",
              "    border: 2px solid var(--fill-color);\n",
              "    border-color: transparent;\n",
              "    border-bottom-color: var(--fill-color);\n",
              "    animation:\n",
              "      spin 1s steps(1) infinite;\n",
              "  }\n",
              "\n",
              "  @keyframes spin {\n",
              "    0% {\n",
              "      border-color: transparent;\n",
              "      border-bottom-color: var(--fill-color);\n",
              "      border-left-color: var(--fill-color);\n",
              "    }\n",
              "    20% {\n",
              "      border-color: transparent;\n",
              "      border-left-color: var(--fill-color);\n",
              "      border-top-color: var(--fill-color);\n",
              "    }\n",
              "    30% {\n",
              "      border-color: transparent;\n",
              "      border-left-color: var(--fill-color);\n",
              "      border-top-color: var(--fill-color);\n",
              "      border-right-color: var(--fill-color);\n",
              "    }\n",
              "    40% {\n",
              "      border-color: transparent;\n",
              "      border-right-color: var(--fill-color);\n",
              "      border-top-color: var(--fill-color);\n",
              "    }\n",
              "    60% {\n",
              "      border-color: transparent;\n",
              "      border-right-color: var(--fill-color);\n",
              "    }\n",
              "    80% {\n",
              "      border-color: transparent;\n",
              "      border-right-color: var(--fill-color);\n",
              "      border-bottom-color: var(--fill-color);\n",
              "    }\n",
              "    90% {\n",
              "      border-color: transparent;\n",
              "      border-bottom-color: var(--fill-color);\n",
              "    }\n",
              "  }\n",
              "</style>\n",
              "\n",
              "  <script>\n",
              "    async function quickchart(key) {\n",
              "      const quickchartButtonEl =\n",
              "        document.querySelector('#' + key + ' button');\n",
              "      quickchartButtonEl.disabled = true;  // To prevent multiple clicks.\n",
              "      quickchartButtonEl.classList.add('colab-df-spinner');\n",
              "      try {\n",
              "        const charts = await google.colab.kernel.invokeFunction(\n",
              "            'suggestCharts', [key], {});\n",
              "      } catch (error) {\n",
              "        console.error('Error during call to suggestCharts:', error);\n",
              "      }\n",
              "      quickchartButtonEl.classList.remove('colab-df-spinner');\n",
              "      quickchartButtonEl.classList.add('colab-df-quickchart-complete');\n",
              "    }\n",
              "    (() => {\n",
              "      let quickchartButtonEl =\n",
              "        document.querySelector('#df-a7415b31-0f9d-454c-a1c8-08991ecbaaef button');\n",
              "      quickchartButtonEl.style.display =\n",
              "        google.colab.kernel.accessAllowed ? 'block' : 'none';\n",
              "    })();\n",
              "  </script>\n",
              "</div>\n",
              "\n",
              "    </div>\n",
              "  </div>\n"
            ],
            "application/vnd.google.colaboratory.intrinsic+json": {
              "type": "dataframe",
              "variable_name": "df",
              "summary": "{\n  \"name\": \"df\",\n  \"rows\": 1309,\n  \"fields\": [\n    {\n      \"column\": \"Unnamed: 0\",\n      \"properties\": {\n        \"dtype\": \"number\",\n        \"std\": 248,\n        \"min\": 0,\n        \"max\": 890,\n        \"num_unique_values\": 891,\n        \"samples\": [\n          709,\n          439,\n          840\n        ],\n        \"semantic_type\": \"\",\n        \"description\": \"\"\n      }\n    },\n    {\n      \"column\": \"PassengerId\",\n      \"properties\": {\n        \"dtype\": \"number\",\n        \"std\": 378,\n        \"min\": 1,\n        \"max\": 1309,\n        \"num_unique_values\": 1309,\n        \"samples\": [\n          1149,\n          1050,\n          983\n        ],\n        \"semantic_type\": \"\",\n        \"description\": \"\"\n      }\n    },\n    {\n      \"column\": \"Survived\",\n      \"properties\": {\n        \"dtype\": \"number\",\n        \"std\": 0.4865924542648585,\n        \"min\": 0.0,\n        \"max\": 1.0,\n        \"num_unique_values\": 2,\n        \"samples\": [\n          1.0,\n          0.0\n        ],\n        \"semantic_type\": \"\",\n        \"description\": \"\"\n      }\n    },\n    {\n      \"column\": \"Pclass\",\n      \"properties\": {\n        \"dtype\": \"number\",\n        \"std\": 0,\n        \"min\": 1,\n        \"max\": 3,\n        \"num_unique_values\": 3,\n        \"samples\": [\n          3,\n          1\n        ],\n        \"semantic_type\": \"\",\n        \"description\": \"\"\n      }\n    },\n    {\n      \"column\": \"Name\",\n      \"properties\": {\n        \"dtype\": \"string\",\n        \"num_unique_values\": 1307,\n        \"samples\": [\n          \"Bryhl, Miss. Dagmar Jenny Ingeborg \",\n          \"Borebank, Mr. John James\"\n        ],\n        \"semantic_type\": \"\",\n        \"description\": \"\"\n      }\n    },\n    {\n      \"column\": \"Sex\",\n      \"properties\": {\n        \"dtype\": \"category\",\n        \"num_unique_values\": 2,\n        \"samples\": [\n          \"female\",\n          \"male\"\n        ],\n        \"semantic_type\": \"\",\n        \"description\": \"\"\n      }\n    },\n    {\n      \"column\": \"Age\",\n      \"properties\": {\n        \"dtype\": \"number\",\n        \"std\": 14.413493211271334,\n        \"min\": 0.17,\n        \"max\": 80.0,\n        \"num_unique_values\": 98,\n        \"samples\": [\n          45.5,\n          23.0\n        ],\n        \"semantic_type\": \"\",\n        \"description\": \"\"\n      }\n    },\n    {\n      \"column\": \"SibSp\",\n      \"properties\": {\n        \"dtype\": \"number\",\n        \"std\": 1,\n        \"min\": 0,\n        \"max\": 8,\n        \"num_unique_values\": 7,\n        \"samples\": [\n          1,\n          0\n        ],\n        \"semantic_type\": \"\",\n        \"description\": \"\"\n      }\n    },\n    {\n      \"column\": \"Parch\",\n      \"properties\": {\n        \"dtype\": \"number\",\n        \"std\": 0,\n        \"min\": 0,\n        \"max\": 9,\n        \"num_unique_values\": 8,\n        \"samples\": [\n          1,\n          4\n        ],\n        \"semantic_type\": \"\",\n        \"description\": \"\"\n      }\n    },\n    {\n      \"column\": \"Ticket\",\n      \"properties\": {\n        \"dtype\": \"string\",\n        \"num_unique_values\": 929,\n        \"samples\": [\n          \"PC 17531\",\n          \"345765\"\n        ],\n        \"semantic_type\": \"\",\n        \"description\": \"\"\n      }\n    },\n    {\n      \"column\": \"Fare\",\n      \"properties\": {\n        \"dtype\": \"number\",\n        \"std\": 51.75866823917414,\n        \"min\": 0.0,\n        \"max\": 512.3292,\n        \"num_unique_values\": 281,\n        \"samples\": [\n          11.2417,\n          35.0\n        ],\n        \"semantic_type\": \"\",\n        \"description\": \"\"\n      }\n    },\n    {\n      \"column\": \"Cabin\",\n      \"properties\": {\n        \"dtype\": \"category\",\n        \"num_unique_values\": 186,\n        \"samples\": [\n          \"B71\",\n          \"C51\"\n        ],\n        \"semantic_type\": \"\",\n        \"description\": \"\"\n      }\n    },\n    {\n      \"column\": \"Embarked\",\n      \"properties\": {\n        \"dtype\": \"category\",\n        \"num_unique_values\": 3,\n        \"samples\": [\n          \"S\",\n          \"C\"\n        ],\n        \"semantic_type\": \"\",\n        \"description\": \"\"\n      }\n    }\n  ]\n}"
            }
          },
          "metadata": {},
          "execution_count": 26
        }
      ]
    },
    {
      "cell_type": "code",
      "source": [
        "print(df.info())  # Kiểm tra thông tin các cột và kiểu dữ liệu"
      ],
      "metadata": {
        "colab": {
          "base_uri": "https://localhost:8080/"
        },
        "id": "opiRv_b2NY_2",
        "outputId": "d86dd3d6-ae51-4e4e-ad68-6b5bf2f13d8d"
      },
      "execution_count": 27,
      "outputs": [
        {
          "output_type": "stream",
          "name": "stdout",
          "text": [
            "<class 'pandas.core.frame.DataFrame'>\n",
            "RangeIndex: 1309 entries, 0 to 1308\n",
            "Data columns (total 13 columns):\n",
            " #   Column       Non-Null Count  Dtype  \n",
            "---  ------       --------------  -----  \n",
            " 0   Unnamed: 0   1309 non-null   int64  \n",
            " 1   PassengerId  1309 non-null   int64  \n",
            " 2   Survived     891 non-null    float64\n",
            " 3   Pclass       1309 non-null   int64  \n",
            " 4   Name         1309 non-null   object \n",
            " 5   Sex          1309 non-null   object \n",
            " 6   Age          1046 non-null   float64\n",
            " 7   SibSp        1309 non-null   int64  \n",
            " 8   Parch        1309 non-null   int64  \n",
            " 9   Ticket       1309 non-null   object \n",
            " 10  Fare         1308 non-null   float64\n",
            " 11  Cabin        295 non-null    object \n",
            " 12  Embarked     1307 non-null   object \n",
            "dtypes: float64(3), int64(5), object(5)\n",
            "memory usage: 133.1+ KB\n",
            "None\n"
          ]
        }
      ]
    },
    {
      "cell_type": "markdown",
      "source": [
        "# 3.Phân tích dữ liệu thiếu"
      ],
      "metadata": {
        "id": "aURpSXH0ZRCg"
      }
    },
    {
      "cell_type": "markdown",
      "source": [
        "**3.1. Kiểm tra và tính toán dữ liệu thiếu**"
      ],
      "metadata": {
        "id": "TBvoWVBFZUt_"
      }
    },
    {
      "cell_type": "code",
      "source": [
        "# Kiểm tra dữ liệu thiếu\n",
        "missing_data = df.isnull().sum()\n",
        "\n",
        "# Tính tỷ lệ phần trăm dữ liệu thiếu\n",
        "missing_percentage = (missing_data / len(df)) * 100\n",
        "\n",
        "# Hiển thị tỷ lệ phần trăm dữ liệu thiếu của mỗi cột\n",
        "print(missing_percentage)"
      ],
      "metadata": {
        "colab": {
          "base_uri": "https://localhost:8080/"
        },
        "id": "HLfX6NXhZZmm",
        "outputId": "6bd456e8-9bc9-48cf-a27f-2c927320e54d"
      },
      "execution_count": 200,
      "outputs": [
        {
          "output_type": "stream",
          "name": "stdout",
          "text": [
            "Unnamed: 0      0.000000\n",
            "PassengerId     0.000000\n",
            "Survived       31.932773\n",
            "Pclass          0.000000\n",
            "Name            0.000000\n",
            "Sex             0.000000\n",
            "Age            20.091673\n",
            "SibSp           0.000000\n",
            "Parch           0.000000\n",
            "Ticket          0.000000\n",
            "Fare            0.076394\n",
            "Cabin          77.463713\n",
            "Embarked        0.152788\n",
            "dtype: float64\n"
          ]
        }
      ]
    },
    {
      "cell_type": "markdown",
      "source": [
        "**3.2. Vẽ heatmap để trực quan hóa dữ liệu thiếu**"
      ],
      "metadata": {
        "id": "wzyhnLgWZdN_"
      }
    },
    {
      "cell_type": "code",
      "source": [
        "# Vẽ heatmap dữ liệu thiếu\n",
        "plt.figure(figsize=(8, 4))\n",
        "sns.heatmap(df.isnull(), cbar=False, cmap='viridis')\n",
        "plt.show()"
      ],
      "metadata": {
        "colab": {
          "base_uri": "https://localhost:8080/",
          "height": 446
        },
        "id": "3U9BMsH-ZZol",
        "outputId": "8b72af14-05ef-4c31-c5f5-1904068e5dba"
      },
      "execution_count": 201,
      "outputs": [
        {
          "output_type": "display_data",
          "data": {
            "text/plain": [
              "<Figure size 800x400 with 1 Axes>"
            ],
            "image/png": "[encoded data removed]"
          },
          "metadata": {}
        }
      ]
    },
    {
      "cell_type": "markdown",
      "source": [
        "**Nhận xét về dữ liệu thiếu:**\n",
        "- **Survived**:\n",
        "\n",
        "Dữ liệu thiếu rất ít, gần như không có giá trị thiếu trong cột này. Điều này là hợp lý vì Survived là cột mục tiêu trong bài toán phân loại.\n",
        "\n",
        "- **Age**:\n",
        "\n",
        "Cột này có khá nhiều giá trị thiếu (những dòng màu vàng dọc theo cột \"Age\"). Việc thiếu giá trị ở cột này khá phổ biến trong dữ liệu Titanic, và sẽ cần một chiến lược như imputation (thay thế giá trị thiếu bằng giá trị trung bình hoặc trung vị) để xử lý.\n",
        "\n",
        "- **Cabin**:\n",
        "\n",
        "Cột Cabin có rất nhiều giá trị thiếu, gần như tất cả các giá trị đều bị thiếu (hiển thị dưới dạng các dòng màu vàng dài). Điều này có thể là do chỉ một phần nhỏ của hành khách có thông tin về cabin của họ. Bạn có thể lựa chọn xóa cột này hoặc áp dụng một kỹ thuật như imputation (có thể sử dụng mô hình hoặc gán giá trị cho cột này).\n",
        "- **Các cột khác (Fare, Embarked, Pclass, Name, Sex, Ticket, SibSp, Parch)**:\n",
        "\n",
        "Những cột này không có nhiều giá trị thiếu (dòng màu vàng). Bạn có thể xử lý chúng bằng các phương pháp đơn giản như thay thế giá trị thiếu bằng giá trị trung bình, trung vị, hoặc sử dụng KNN."
      ],
      "metadata": {
        "id": "A2MNceRZVT7-"
      }
    },
    {
      "cell_type": "markdown",
      "source": [
        "# 4.Xử lý dữ liệu thiếu (Drop rows with missing data) và áp dụng Logistic Regression"
      ],
      "metadata": {
        "id": "mCrAuT9EZz34"
      }
    },
    {
      "cell_type": "markdown",
      "source": [
        "**Drop rows with missing data**"
      ],
      "metadata": {
        "id": "tR-KIJw8aQW_"
      }
    },
    {
      "cell_type": "code",
      "source": [
        "# Loại bỏ các dòng có dữ liệu thiếu\n",
        "df_dropped = df.dropna()\n",
        "\n",
        "# Kiểm tra lại dữ liệu sau khi loại bỏ\n",
        "print(df_dropped.info())\n"
      ],
      "metadata": {
        "colab": {
          "base_uri": "https://localhost:8080/"
        },
        "id": "ywVXSpDJZ6-E",
        "outputId": "2b228e1a-29ad-4787-a068-8cbbb0196884"
      },
      "execution_count": 31,
      "outputs": [
        {
          "output_type": "stream",
          "name": "stdout",
          "text": [
            "<class 'pandas.core.frame.DataFrame'>\n",
            "Index: 183 entries, 1 to 889\n",
            "Data columns (total 13 columns):\n",
            " #   Column       Non-Null Count  Dtype  \n",
            "---  ------       --------------  -----  \n",
            " 0   Unnamed: 0   183 non-null    int64  \n",
            " 1   PassengerId  183 non-null    int64  \n",
            " 2   Survived     183 non-null    float64\n",
            " 3   Pclass       183 non-null    int64  \n",
            " 4   Name         183 non-null    object \n",
            " 5   Sex          183 non-null    object \n",
            " 6   Age          183 non-null    float64\n",
            " 7   SibSp        183 non-null    int64  \n",
            " 8   Parch        183 non-null    int64  \n",
            " 9   Ticket       183 non-null    object \n",
            " 10  Fare         183 non-null    float64\n",
            " 11  Cabin        183 non-null    object \n",
            " 12  Embarked     183 non-null    object \n",
            "dtypes: float64(3), int64(5), object(5)\n",
            "memory usage: 20.0+ KB\n",
            "None\n"
          ]
        }
      ]
    },
    {
      "cell_type": "markdown",
      "source": [
        "**Mã hóa các cột phân loại**"
      ],
      "metadata": {
        "id": "IsaVB8NHcrco"
      }
    },
    {
      "cell_type": "code",
      "source": [
        "from sklearn.preprocessing import LabelEncoder\n",
        "\n",
        "# Khởi tạo LabelEncoder\n",
        "label_encoder = LabelEncoder()\n",
        "\n",
        "# Mã hóa cột 'Sex'\n",
        "df_dropped['Sex'] = label_encoder.fit_transform(df_dropped['Sex'])\n",
        "\n",
        "# Kiểm tra lại dữ liệu\n",
        "print(df_dropped['Sex'].head())\n"
      ],
      "metadata": {
        "colab": {
          "base_uri": "https://localhost:8080/"
        },
        "id": "I7QI9oYIcvdq",
        "outputId": "26bb92a5-aa97-4caa-ae49-9bf84a580dfe"
      },
      "execution_count": 36,
      "outputs": [
        {
          "output_type": "stream",
          "name": "stdout",
          "text": [
            "1     0\n",
            "3     0\n",
            "6     1\n",
            "10    0\n",
            "11    0\n",
            "Name: Sex, dtype: int64\n"
          ]
        },
        {
          "output_type": "stream",
          "name": "stderr",
          "text": [
            "<ipython-input-36-eefea9b07a44>:7: SettingWithCopyWarning: \n",
            "A value is trying to be set on a copy of a slice from a DataFrame.\n",
            "Try using .loc[row_indexer,col_indexer] = value instead\n",
            "\n",
            "See the caveats in the documentation: https://pandas.pydata.org/pandas-docs/stable/user_guide/indexing.html#returning-a-view-versus-a-copy\n",
            "  df_dropped['Sex'] = label_encoder.fit_transform(df_dropped['Sex'])\n"
          ]
        }
      ]
    },
    {
      "cell_type": "code",
      "source": [
        "# Mã hóa cột 'Embarked' với One-Hot Encoding\n",
        "df_dropped = pd.get_dummies(df_dropped, columns=['Embarked'], drop_first=True)\n",
        "\n",
        "# Kiểm tra lại dữ liệu\n",
        "print(df_dropped.head())\n"
      ],
      "metadata": {
        "colab": {
          "base_uri": "https://localhost:8080/"
        },
        "id": "QXPHwYo4c0VK",
        "outputId": "e5089eb4-6b78-4b87-cff8-4c6082341126"
      },
      "execution_count": 37,
      "outputs": [
        {
          "output_type": "stream",
          "name": "stdout",
          "text": [
            "    Unnamed: 0  PassengerId  Survived  Pclass  \\\n",
            "1            1            2       1.0       1   \n",
            "3            3            4       1.0       1   \n",
            "6            6            7       0.0       1   \n",
            "10          10           11       1.0       3   \n",
            "11          11           12       1.0       1   \n",
            "\n",
            "                                                 Name  Sex   Age  SibSp  \\\n",
            "1   Cumings, Mrs. John Bradley (Florence Briggs Th...    0  38.0      1   \n",
            "3        Futrelle, Mrs. Jacques Heath (Lily May Peel)    0  35.0      1   \n",
            "6                             McCarthy, Mr. Timothy J    1  54.0      0   \n",
            "10                    Sandstrom, Miss. Marguerite Rut    0   4.0      1   \n",
            "11                           Bonnell, Miss. Elizabeth    0  58.0      0   \n",
            "\n",
            "    Parch    Ticket     Fare Cabin  Embarked_Q  Embarked_S  \n",
            "1       0  PC 17599  71.2833   C85       False       False  \n",
            "3       0    113803  53.1000  C123       False        True  \n",
            "6       0     17463  51.8625   E46       False        True  \n",
            "10      1   PP 9549  16.7000    G6       False        True  \n",
            "11      0    113783  26.5500  C103       False        True  \n"
          ]
        }
      ]
    },
    {
      "cell_type": "markdown",
      "source": [
        "**Loại bỏ các cột không liên quan**"
      ],
      "metadata": {
        "id": "h9-TSdIfc9cv"
      }
    },
    {
      "cell_type": "code",
      "source": [
        "# Loại bỏ các cột không liên quan\n",
        "X = df_dropped.drop(['Survived', 'Name', 'Ticket', 'Cabin'], axis=1)  # Loại bỏ cột mục tiêu và các cột không cần thiết\n",
        "y = df_dropped['Survived']  # Cột mục tiêu\n"
      ],
      "metadata": {
        "id": "5sPelp8Xc7Lg"
      },
      "execution_count": 38,
      "outputs": []
    },
    {
      "cell_type": "markdown",
      "source": [
        "**Chia dữ liệu thành tập huấn luyện và kiểm tra**"
      ],
      "metadata": {
        "id": "RUgLt7-wdHlc"
      }
    },
    {
      "cell_type": "code",
      "source": [
        "from sklearn.model_selection import train_test_split\n",
        "\n",
        "# Chia dữ liệu thành tập huấn luyện và tập kiểm tra\n",
        "X_train, X_test, y_train, y_test = train_test_split(X, y, test_size=0.2, random_state=42)\n",
        "\n",
        "# Kiểm tra kích thước dữ liệu huấn luyện và kiểm tra\n",
        "print(X_train.shape, X_test.shape)\n"
      ],
      "metadata": {
        "colab": {
          "base_uri": "https://localhost:8080/"
        },
        "id": "a4dHmF8wdBmJ",
        "outputId": "f20a76a2-adba-422b-805e-971165d341f0"
      },
      "execution_count": 41,
      "outputs": [
        {
          "output_type": "stream",
          "name": "stdout",
          "text": [
            "(146, 10) (37, 10)\n"
          ]
        }
      ]
    },
    {
      "cell_type": "markdown",
      "source": [
        "**Huấn luyện mô hình Logistic Regression**"
      ],
      "metadata": {
        "id": "Riv32kNsdMqu"
      }
    },
    {
      "cell_type": "code",
      "source": [
        "from sklearn.linear_model import LogisticRegression\n",
        "\n",
        "# Khởi tạo mô hình Logistic Regression\n",
        "lr = LogisticRegression(max_iter=1000)\n",
        "\n",
        "# Huấn luyện mô hình với dữ liệu huấn luyện\n",
        "lr.fit(X_train, y_train)\n",
        "\n",
        "# Dự đoán trên tập kiểm tra\n",
        "y_pred = lr.predict(X_test)\n"
      ],
      "metadata": {
        "colab": {
          "base_uri": "https://localhost:8080/"
        },
        "id": "GcTZm5lwdKvi",
        "outputId": "2ca0e07c-9032-4f45-f55a-eea9c4ed9f5f"
      },
      "execution_count": 42,
      "outputs": [
        {
          "output_type": "stream",
          "name": "stderr",
          "text": [
            "/usr/local/lib/python3.11/dist-packages/sklearn/linear_model/_logistic.py:465: ConvergenceWarning: lbfgs failed to converge (status=1):\n",
            "STOP: TOTAL NO. of ITERATIONS REACHED LIMIT.\n",
            "\n",
            "Increase the number of iterations (max_iter) or scale the data as shown in:\n",
            "    https://scikit-learn.org/stable/modules/preprocessing.html\n",
            "Please also refer to the documentation for alternative solver options:\n",
            "    https://scikit-learn.org/stable/modules/linear_model.html#logistic-regression\n",
            "  n_iter_i = _check_optimize_result(\n"
          ]
        }
      ]
    },
    {
      "cell_type": "markdown",
      "source": [
        "**Đánh giá mô hình**"
      ],
      "metadata": {
        "id": "wmpy8BkadSqB"
      }
    },
    {
      "cell_type": "code",
      "source": [
        "from sklearn.metrics import accuracy_score, f1_score, mean_squared_error\n",
        "\n",
        "# Đánh giá mô hình\n",
        "accuracy = accuracy_score(y_test, y_pred)\n",
        "f1 = f1_score(y_test, y_pred)\n",
        "rmse = np.sqrt(mean_squared_error(y_test, y_pred))\n",
        "\n",
        "# In kết quả\n",
        "print(\"Logistic Regression - Evaluation Results\")\n",
        "print(f\"Accuracy: {accuracy}\")\n",
        "print(f\"F1-Score: {f1}\")\n",
        "print(f\"RMSE: {rmse}\")\n"
      ],
      "metadata": {
        "colab": {
          "base_uri": "https://localhost:8080/"
        },
        "id": "-Z58xprtdO4J",
        "outputId": "7b97d9be-3518-4f8e-9e70-2f3ef3a1630d"
      },
      "execution_count": 43,
      "outputs": [
        {
          "output_type": "stream",
          "name": "stdout",
          "text": [
            "Logistic Regression - Evaluation Results\n",
            "Accuracy: 0.7567567567567568\n",
            "F1-Score: 0.8163265306122449\n",
            "RMSE: 0.4931969619160719\n"
          ]
        }
      ]
    },
    {
      "cell_type": "markdown",
      "source": [
        "# 5.Xử lý dữ liệu thiếu (Mean/Median Imputation) và áp dụng Logistic Regression"
      ],
      "metadata": {
        "id": "a-K4_DABfKgX"
      }
    },
    {
      "cell_type": "markdown",
      "source": [
        "**Mean/Median Imputation**"
      ],
      "metadata": {
        "id": "cdURtgTjftEW"
      }
    },
    {
      "cell_type": "markdown",
      "source": [
        "**Xử lý các giá trị thiếu trong các cột số**"
      ],
      "metadata": {
        "id": "6ZSG1KnGhR_3"
      }
    },
    {
      "cell_type": "code",
      "source": [
        "import pandas as pd\n",
        "from sklearn.impute import SimpleImputer\n",
        "\n",
        "df = pd.read_csv('titanic.csv')\n"
      ],
      "metadata": {
        "id": "C6J-I6CSfSA2"
      },
      "execution_count": 105,
      "outputs": []
    },
    {
      "cell_type": "code",
      "source": [
        "# Kiểm tra thông tin dữ liệu\n",
        "print(df.info())"
      ],
      "metadata": {
        "colab": {
          "base_uri": "https://localhost:8080/"
        },
        "id": "as7WTWVnmWbt",
        "outputId": "af7d81c9-dd90-444f-847c-dc2b5038482a"
      },
      "execution_count": 108,
      "outputs": [
        {
          "output_type": "stream",
          "name": "stdout",
          "text": [
            "<class 'pandas.core.frame.DataFrame'>\n",
            "RangeIndex: 1309 entries, 0 to 1308\n",
            "Data columns (total 13 columns):\n",
            " #   Column       Non-Null Count  Dtype  \n",
            "---  ------       --------------  -----  \n",
            " 0   Unnamed: 0   1309 non-null   int64  \n",
            " 1   PassengerId  1309 non-null   int64  \n",
            " 2   Survived     891 non-null    float64\n",
            " 3   Pclass       1309 non-null   int64  \n",
            " 4   Name         1309 non-null   object \n",
            " 5   Sex          1309 non-null   object \n",
            " 6   Age          1046 non-null   float64\n",
            " 7   SibSp        1309 non-null   int64  \n",
            " 8   Parch        1309 non-null   int64  \n",
            " 9   Ticket       1309 non-null   object \n",
            " 10  Fare         1308 non-null   float64\n",
            " 11  Cabin        295 non-null    object \n",
            " 12  Embarked     1307 non-null   object \n",
            "dtypes: float64(3), int64(5), object(5)\n",
            "memory usage: 133.1+ KB\n",
            "None\n"
          ]
        }
      ]
    },
    {
      "cell_type": "code",
      "source": [
        "# Xử lý các giá trị thiếu trong cột 'Age' và 'Fare' với phương pháp median (trung vị)\n",
        "imputer = SimpleImputer(strategy='median')\n",
        "df[['Age', 'Fare']] = imputer.fit_transform(df[['Age', 'Fare']])\n"
      ],
      "metadata": {
        "id": "E_60kHzamfAe"
      },
      "execution_count": 109,
      "outputs": []
    },
    {
      "cell_type": "code",
      "source": [
        "# Khởi tạo SimpleImputer với chiến lược 'median' (trung vị)\n",
        "imputer_survived = SimpleImputer(strategy='median')\n",
        "\n",
        "# Áp dụng SimpleImputer cho cột 'Survived'\n",
        "df['Survived'] = imputer_survived.fit_transform(df[['Survived']])\n",
        "\n",
        "# Kiểm tra lại sau khi thay thế giá trị thiếu trong 'Survived'\n",
        "print(df['Survived'].head())\n"
      ],
      "metadata": {
        "colab": {
          "base_uri": "https://localhost:8080/"
        },
        "id": "-C4rjnYRoO-m",
        "outputId": "825163d9-00a6-4153-cc39-2162abe8095b"
      },
      "execution_count": 110,
      "outputs": [
        {
          "output_type": "stream",
          "name": "stdout",
          "text": [
            "0    0.0\n",
            "1    1.0\n",
            "2    1.0\n",
            "3    1.0\n",
            "4    0.0\n",
            "Name: Survived, dtype: float64\n"
          ]
        }
      ]
    },
    {
      "cell_type": "code",
      "source": [
        "df.info()"
      ],
      "metadata": {
        "colab": {
          "base_uri": "https://localhost:8080/"
        },
        "id": "2ClbreP4ofj_",
        "outputId": "0c73b0e2-6fc2-4c8a-975a-48354dbc8b80"
      },
      "execution_count": 111,
      "outputs": [
        {
          "output_type": "stream",
          "name": "stdout",
          "text": [
            "<class 'pandas.core.frame.DataFrame'>\n",
            "RangeIndex: 1309 entries, 0 to 1308\n",
            "Data columns (total 13 columns):\n",
            " #   Column       Non-Null Count  Dtype  \n",
            "---  ------       --------------  -----  \n",
            " 0   Unnamed: 0   1309 non-null   int64  \n",
            " 1   PassengerId  1309 non-null   int64  \n",
            " 2   Survived     1309 non-null   float64\n",
            " 3   Pclass       1309 non-null   int64  \n",
            " 4   Name         1309 non-null   object \n",
            " 5   Sex          1309 non-null   object \n",
            " 6   Age          1309 non-null   float64\n",
            " 7   SibSp        1309 non-null   int64  \n",
            " 8   Parch        1309 non-null   int64  \n",
            " 9   Ticket       1309 non-null   object \n",
            " 10  Fare         1309 non-null   float64\n",
            " 11  Cabin        295 non-null    object \n",
            " 12  Embarked     1307 non-null   object \n",
            "dtypes: float64(3), int64(5), object(5)\n",
            "memory usage: 133.1+ KB\n"
          ]
        }
      ]
    },
    {
      "cell_type": "markdown",
      "source": [
        "**Mã hóa các cột phân loại**"
      ],
      "metadata": {
        "id": "qKcz3qoei9lY"
      }
    },
    {
      "cell_type": "code",
      "source": [
        "from sklearn.preprocessing import LabelEncoder\n",
        "\n",
        "# Mã hóa cột 'Sex'\n",
        "label_encoder = LabelEncoder()\n",
        "df['Sex'] = label_encoder.fit_transform(df['Sex'])\n",
        "\n",
        "# Kiểm tra lại\n",
        "print(df['Sex'].head())\n"
      ],
      "metadata": {
        "colab": {
          "base_uri": "https://localhost:8080/"
        },
        "id": "aXDg1hLJjs6Q",
        "outputId": "06bb1a99-4b49-46f8-9d24-142641742c8d"
      },
      "execution_count": 112,
      "outputs": [
        {
          "output_type": "stream",
          "name": "stdout",
          "text": [
            "0    1\n",
            "1    0\n",
            "2    0\n",
            "3    0\n",
            "4    1\n",
            "Name: Sex, dtype: int64\n"
          ]
        }
      ]
    },
    {
      "cell_type": "code",
      "source": [
        "# Mã hóa cột 'Embarked' bằng LabelEncoder trước khi xử lí thiếu\n",
        "label_encoder = LabelEncoder()\n",
        "df['Embarked'] = label_encoder.fit_transform(df['Embarked'])\n",
        "\n",
        "# Kiểm tra lại sau khi mã hóa\n",
        "print(df['Embarked'].head())\n"
      ],
      "metadata": {
        "colab": {
          "base_uri": "https://localhost:8080/"
        },
        "id": "2fKVSAl2mk53",
        "outputId": "dac05b82-7fad-4fcc-d6b9-093151275130"
      },
      "execution_count": 113,
      "outputs": [
        {
          "output_type": "stream",
          "name": "stdout",
          "text": [
            "0    2\n",
            "1    0\n",
            "2    2\n",
            "3    2\n",
            "4    2\n",
            "Name: Embarked, dtype: int64\n"
          ]
        }
      ]
    },
    {
      "cell_type": "code",
      "source": [
        "df.info()"
      ],
      "metadata": {
        "colab": {
          "base_uri": "https://localhost:8080/"
        },
        "id": "V9vF4-afkg_9",
        "outputId": "7ea8cda4-8c53-469a-c378-39e9cba7cc40"
      },
      "execution_count": 114,
      "outputs": [
        {
          "output_type": "stream",
          "name": "stdout",
          "text": [
            "<class 'pandas.core.frame.DataFrame'>\n",
            "RangeIndex: 1309 entries, 0 to 1308\n",
            "Data columns (total 13 columns):\n",
            " #   Column       Non-Null Count  Dtype  \n",
            "---  ------       --------------  -----  \n",
            " 0   Unnamed: 0   1309 non-null   int64  \n",
            " 1   PassengerId  1309 non-null   int64  \n",
            " 2   Survived     1309 non-null   float64\n",
            " 3   Pclass       1309 non-null   int64  \n",
            " 4   Name         1309 non-null   object \n",
            " 5   Sex          1309 non-null   int64  \n",
            " 6   Age          1309 non-null   float64\n",
            " 7   SibSp        1309 non-null   int64  \n",
            " 8   Parch        1309 non-null   int64  \n",
            " 9   Ticket       1309 non-null   object \n",
            " 10  Fare         1309 non-null   float64\n",
            " 11  Cabin        295 non-null    object \n",
            " 12  Embarked     1309 non-null   int64  \n",
            "dtypes: float64(3), int64(7), object(3)\n",
            "memory usage: 133.1+ KB\n"
          ]
        }
      ]
    },
    {
      "cell_type": "markdown",
      "source": [
        "**Loại bỏ các cột không liên quan**"
      ],
      "metadata": {
        "id": "p0WM1m1VlLwm"
      }
    },
    {
      "cell_type": "code",
      "source": [
        "# Loại bỏ các cột không cần thiết\n",
        "X = df.drop(['Survived', 'Unnamed: 0', 'PassengerId', 'Name', 'Ticket', 'Cabin'], axis=1)\n",
        "y = df['Survived']\n",
        "\n",
        "# Kiểm tra lại sau khi loại bỏ\n",
        "print(X.head())\n"
      ],
      "metadata": {
        "colab": {
          "base_uri": "https://localhost:8080/"
        },
        "id": "Pc4_z8oFlBS-",
        "outputId": "508569f5-86d1-4c9f-e3c5-845dbfb061b5"
      },
      "execution_count": 115,
      "outputs": [
        {
          "output_type": "stream",
          "name": "stdout",
          "text": [
            "   Pclass  Sex   Age  SibSp  Parch     Fare  Embarked\n",
            "0       3    1  22.0      1      0   7.2500         2\n",
            "1       1    0  38.0      1      0  71.2833         0\n",
            "2       3    0  26.0      0      0   7.9250         2\n",
            "3       1    0  35.0      1      0  53.1000         2\n",
            "4       3    1  35.0      0      0   8.0500         2\n"
          ]
        }
      ]
    },
    {
      "cell_type": "markdown",
      "source": [
        "**Chia dữ liệu thành tập huấn luyện và kiểm tra**"
      ],
      "metadata": {
        "id": "FgGwrEHklW42"
      }
    },
    {
      "cell_type": "code",
      "source": [
        "from sklearn.model_selection import train_test_split\n",
        "\n",
        "# Chia dữ liệu thành tập huấn luyện và tập kiểm tra (80% huấn luyện, 20% kiểm tra)\n",
        "X_train, X_test, y_train, y_test = train_test_split(X, y, test_size=0.2, random_state=42)\n",
        "\n",
        "# Kiểm tra kích thước dữ liệu huấn luyện và kiểm tra\n",
        "print(X_train.shape, X_test.shape)\n"
      ],
      "metadata": {
        "colab": {
          "base_uri": "https://localhost:8080/"
        },
        "id": "9jGqa4DalTJh",
        "outputId": "4e0517bd-6c11-4965-fc37-ad329ff684b8"
      },
      "execution_count": 116,
      "outputs": [
        {
          "output_type": "stream",
          "name": "stdout",
          "text": [
            "(1047, 7) (262, 7)\n"
          ]
        }
      ]
    },
    {
      "cell_type": "markdown",
      "source": [
        "**Huấn luyện mô hình Logistic Regression**"
      ],
      "metadata": {
        "id": "ha1OYUCVlcKf"
      }
    },
    {
      "cell_type": "code",
      "source": [
        "from sklearn.linear_model import LogisticRegression\n",
        "\n",
        "# Khởi tạo mô hình Logistic Regression\n",
        "lr = LogisticRegression(max_iter=1000)\n",
        "\n",
        "# Huấn luyện mô hình với dữ liệu huấn luyện\n",
        "lr.fit(X_train, y_train)\n",
        "\n",
        "# Dự đoán trên tập kiểm tra\n",
        "y_pred = lr.predict(X_test)\n",
        "\n",
        "# Kiểm tra dự đoán\n",
        "print(y_pred[:10])  # In 10 giá trị dự đoán đầu tiên\n"
      ],
      "metadata": {
        "colab": {
          "base_uri": "https://localhost:8080/"
        },
        "id": "Ey1iHksqlZvq",
        "outputId": "37ca2ee4-b16d-4d41-cb9d-1d2f622d0a7f"
      },
      "execution_count": 117,
      "outputs": [
        {
          "output_type": "stream",
          "name": "stdout",
          "text": [
            "[0. 0. 0. 0. 0. 0. 0. 1. 0. 0.]\n"
          ]
        }
      ]
    },
    {
      "cell_type": "code",
      "source": [
        "from sklearn.metrics import accuracy_score, f1_score, mean_squared_error\n",
        "\n",
        "# Đánh giá mô hình\n",
        "accuracy = accuracy_score(y_test, y_pred)\n",
        "f1 = f1_score(y_test, y_pred)\n",
        "rmse = np.sqrt(mean_squared_error(y_test, y_pred))\n",
        "\n",
        "# In kết quả\n",
        "print(\"Logistic Regression - Evaluation Results\")\n",
        "print(f\"Accuracy: {accuracy}\")\n",
        "print(f\"F1-Score: {f1}\")\n",
        "print(f\"RMSE: {rmse}\")\n"
      ],
      "metadata": {
        "colab": {
          "base_uri": "https://localhost:8080/"
        },
        "id": "QhvK_jVun1KO",
        "outputId": "dfb40f80-abe3-42a0-f60b-a17f7ed287a6"
      },
      "execution_count": 118,
      "outputs": [
        {
          "output_type": "stream",
          "name": "stdout",
          "text": [
            "Logistic Regression - Evaluation Results\n",
            "Accuracy: 0.767175572519084\n",
            "F1-Score: 0.46956521739130436\n",
            "RMSE: 0.4825188364001099\n"
          ]
        }
      ]
    },
    {
      "cell_type": "markdown",
      "source": [
        "# 6.Xử lý dữ liệu thiếu (Advanced techniques (KNN, MICE,...)) và áp dụng Logistic Regression"
      ],
      "metadata": {
        "id": "KXZcW5VIpUvN"
      }
    },
    {
      "cell_type": "markdown",
      "source": [
        "#6.1 Xử lý dữ liệu thiếu với KNN"
      ],
      "metadata": {
        "id": "hj2vHge3qccT"
      }
    },
    {
      "cell_type": "markdown",
      "source": [
        "**KNN**"
      ],
      "metadata": {
        "id": "uzv3i_82stye"
      }
    },
    {
      "cell_type": "code",
      "source": [
        "df = pd.read_csv('titanic.csv')"
      ],
      "metadata": {
        "id": "-scluSedqAl-"
      },
      "execution_count": 165,
      "outputs": []
    },
    {
      "cell_type": "code",
      "source": [
        "df.info()"
      ],
      "metadata": {
        "colab": {
          "base_uri": "https://localhost:8080/"
        },
        "id": "xpmBsTyJqA_i",
        "outputId": "8c0a1de1-ab64-4a8f-c792-01d285c57541"
      },
      "execution_count": 166,
      "outputs": [
        {
          "output_type": "stream",
          "name": "stdout",
          "text": [
            "<class 'pandas.core.frame.DataFrame'>\n",
            "RangeIndex: 1309 entries, 0 to 1308\n",
            "Data columns (total 13 columns):\n",
            " #   Column       Non-Null Count  Dtype  \n",
            "---  ------       --------------  -----  \n",
            " 0   Unnamed: 0   1309 non-null   int64  \n",
            " 1   PassengerId  1309 non-null   int64  \n",
            " 2   Survived     891 non-null    float64\n",
            " 3   Pclass       1309 non-null   int64  \n",
            " 4   Name         1309 non-null   object \n",
            " 5   Sex          1309 non-null   object \n",
            " 6   Age          1046 non-null   float64\n",
            " 7   SibSp        1309 non-null   int64  \n",
            " 8   Parch        1309 non-null   int64  \n",
            " 9   Ticket       1309 non-null   object \n",
            " 10  Fare         1308 non-null   float64\n",
            " 11  Cabin        295 non-null    object \n",
            " 12  Embarked     1307 non-null   object \n",
            "dtypes: float64(3), int64(5), object(5)\n",
            "memory usage: 133.1+ KB\n"
          ]
        }
      ]
    },
    {
      "cell_type": "code",
      "source": [
        "from sklearn.impute import KNNImputer\n",
        "# Khởi tạo KNNImputer với k=5 (5 láng giềng gần nhất)\n",
        "knn_imputer = KNNImputer(n_neighbors=5)"
      ],
      "metadata": {
        "id": "F8l35rKhqC4_"
      },
      "execution_count": 167,
      "outputs": []
    },
    {
      "cell_type": "code",
      "source": [
        "# Áp dụng KNNImputer cho các cột 'Age', 'Fare' và 'Embarked'\n",
        "df[['Age', 'Fare']] = knn_imputer.fit_transform(df[['Age', 'Fare']])"
      ],
      "metadata": {
        "id": "9vz9pxeVqtMv"
      },
      "execution_count": 168,
      "outputs": []
    },
    {
      "cell_type": "code",
      "source": [
        "# Kiểm tra lại sau khi áp dụng KNNImputer\n",
        "print(df[['Age', 'Fare']].head())"
      ],
      "metadata": {
        "colab": {
          "base_uri": "https://localhost:8080/"
        },
        "id": "uoOk-Pt7rCnI",
        "outputId": "f78f29d5-bba0-4b74-ddce-d2ef23d06158"
      },
      "execution_count": 169,
      "outputs": [
        {
          "output_type": "stream",
          "name": "stdout",
          "text": [
            "    Age     Fare\n",
            "0  22.0   7.2500\n",
            "1  38.0  71.2833\n",
            "2  26.0   7.9250\n",
            "3  35.0  53.1000\n",
            "4  35.0   8.0500\n"
          ]
        }
      ]
    },
    {
      "cell_type": "code",
      "source": [
        "from sklearn.impute import SimpleImputer\n",
        "\n",
        "# Khởi tạo SimpleImputer với chiến lược 'most_frequent' (giá trị xuất hiện nhiều nhất)\n",
        "imputer = SimpleImputer(strategy='most_frequent')\n",
        "\n",
        "# Áp dụng SimpleImputer cho cột 'Survived'\n",
        "df['Survived'] = imputer.fit_transform(df[['Survived']])\n",
        "\n",
        "# Kiểm tra lại sau khi thay thế giá trị thiếu\n",
        "print(df['Survived'].head())\n"
      ],
      "metadata": {
        "colab": {
          "base_uri": "https://localhost:8080/"
        },
        "id": "vXG7i65JsAWc",
        "outputId": "7f9d8cb8-6823-48b8-c1fc-0d292c910149"
      },
      "execution_count": 170,
      "outputs": [
        {
          "output_type": "stream",
          "name": "stdout",
          "text": [
            "0    0.0\n",
            "1    1.0\n",
            "2    1.0\n",
            "3    1.0\n",
            "4    0.0\n",
            "Name: Survived, dtype: float64\n"
          ]
        }
      ]
    },
    {
      "cell_type": "code",
      "source": [
        "df.info()"
      ],
      "metadata": {
        "colab": {
          "base_uri": "https://localhost:8080/"
        },
        "id": "eFmzSbWbsU5p",
        "outputId": "97633b5e-6c8b-4e9f-89f4-8f6ebe507889"
      },
      "execution_count": 171,
      "outputs": [
        {
          "output_type": "stream",
          "name": "stdout",
          "text": [
            "<class 'pandas.core.frame.DataFrame'>\n",
            "RangeIndex: 1309 entries, 0 to 1308\n",
            "Data columns (total 13 columns):\n",
            " #   Column       Non-Null Count  Dtype  \n",
            "---  ------       --------------  -----  \n",
            " 0   Unnamed: 0   1309 non-null   int64  \n",
            " 1   PassengerId  1309 non-null   int64  \n",
            " 2   Survived     1309 non-null   float64\n",
            " 3   Pclass       1309 non-null   int64  \n",
            " 4   Name         1309 non-null   object \n",
            " 5   Sex          1309 non-null   object \n",
            " 6   Age          1309 non-null   float64\n",
            " 7   SibSp        1309 non-null   int64  \n",
            " 8   Parch        1309 non-null   int64  \n",
            " 9   Ticket       1309 non-null   object \n",
            " 10  Fare         1309 non-null   float64\n",
            " 11  Cabin        295 non-null    object \n",
            " 12  Embarked     1307 non-null   object \n",
            "dtypes: float64(3), int64(5), object(5)\n",
            "memory usage: 133.1+ KB\n"
          ]
        }
      ]
    },
    {
      "cell_type": "markdown",
      "source": [
        "**Mã hóa các cột phân loại**"
      ],
      "metadata": {
        "id": "QWmCCefespRP"
      }
    },
    {
      "cell_type": "code",
      "source": [
        "from sklearn.preprocessing import LabelEncoder\n",
        "\n",
        "# Mã hóa cột 'Sex'\n",
        "label_encoder = LabelEncoder()\n",
        "df['Sex'] = label_encoder.fit_transform(df['Sex'])\n",
        "\n",
        "# Kiểm tra lại\n",
        "print(df['Sex'].head())\n"
      ],
      "metadata": {
        "colab": {
          "base_uri": "https://localhost:8080/"
        },
        "id": "SYRpfD5BsY0X",
        "outputId": "349ab734-a6d8-4d12-e3f7-e82a1fc90004"
      },
      "execution_count": 172,
      "outputs": [
        {
          "output_type": "stream",
          "name": "stdout",
          "text": [
            "0    1\n",
            "1    0\n",
            "2    0\n",
            "3    0\n",
            "4    1\n",
            "Name: Sex, dtype: int64\n"
          ]
        }
      ]
    },
    {
      "cell_type": "code",
      "source": [
        "# Mã hóa cột 'Embarked' bằng LabelEncoder trước khi xử lí thiếu\n",
        "label_encoder = LabelEncoder()\n",
        "df['Embarked'] = label_encoder.fit_transform(df['Embarked'])\n",
        "\n",
        "# Kiểm tra lại sau khi mã hóa\n",
        "print(df['Embarked'].head())\n"
      ],
      "metadata": {
        "colab": {
          "base_uri": "https://localhost:8080/"
        },
        "id": "-oz7VJ8Ss368",
        "outputId": "bd6fe46c-55cf-457d-a7db-24fed2826121"
      },
      "execution_count": 173,
      "outputs": [
        {
          "output_type": "stream",
          "name": "stdout",
          "text": [
            "0    2\n",
            "1    0\n",
            "2    2\n",
            "3    2\n",
            "4    2\n",
            "Name: Embarked, dtype: int64\n"
          ]
        }
      ]
    },
    {
      "cell_type": "markdown",
      "source": [
        "**Loại bỏ các cột không cần thiết**"
      ],
      "metadata": {
        "id": "vlBH-YyCtCQr"
      }
    },
    {
      "cell_type": "code",
      "source": [
        "# Loại bỏ các cột không cần thiết\n",
        "X = df.drop(['Survived', 'Unnamed: 0', 'PassengerId', 'Name', 'Ticket', 'Cabin'], axis=1)\n",
        "y = df['Survived']\n",
        "\n",
        "# Kiểm tra lại sau khi loại bỏ\n",
        "print(X.head())\n"
      ],
      "metadata": {
        "colab": {
          "base_uri": "https://localhost:8080/"
        },
        "id": "jJwUcF2qs85x",
        "outputId": "eadf0371-9688-4a69-de22-b1ffc664ea05"
      },
      "execution_count": 174,
      "outputs": [
        {
          "output_type": "stream",
          "name": "stdout",
          "text": [
            "   Pclass  Sex   Age  SibSp  Parch     Fare  Embarked\n",
            "0       3    1  22.0      1      0   7.2500         2\n",
            "1       1    0  38.0      1      0  71.2833         0\n",
            "2       3    0  26.0      0      0   7.9250         2\n",
            "3       1    0  35.0      1      0  53.1000         2\n",
            "4       3    1  35.0      0      0   8.0500         2\n"
          ]
        }
      ]
    },
    {
      "cell_type": "markdown",
      "source": [
        "**Chia tập dữ liệu**"
      ],
      "metadata": {
        "id": "9VYE1kuKtNR1"
      }
    },
    {
      "cell_type": "code",
      "source": [
        "from sklearn.model_selection import train_test_split\n",
        "\n",
        "X_train, X_test, y_train, y_test = train_test_split(X, y, test_size=0.2, random_state=42)\n",
        "# Kiểm tra kích thước dữ liệu huấn luyện và kiểm tra\n",
        "print(X_train.shape, X_test.shape)"
      ],
      "metadata": {
        "colab": {
          "base_uri": "https://localhost:8080/"
        },
        "id": "nC5ahHd1tHW0",
        "outputId": "49b4e803-49f7-47f9-941d-bff740786210"
      },
      "execution_count": 175,
      "outputs": [
        {
          "output_type": "stream",
          "name": "stdout",
          "text": [
            "(1047, 7) (262, 7)\n"
          ]
        }
      ]
    },
    {
      "cell_type": "markdown",
      "source": [
        "**Huấn luyện với Logistics Regression**"
      ],
      "metadata": {
        "id": "a1f6kWqYtQHM"
      }
    },
    {
      "cell_type": "code",
      "source": [
        "# Huấn luyện mô hình Logistic Regression\n",
        "from sklearn.linear_model import LogisticRegression\n",
        "\n",
        "lr = LogisticRegression(max_iter=1000)\n",
        "lr.fit(X_train, y_train)\n",
        "\n",
        "# Dự đoán trên tập kiểm tra\n",
        "y_pred = lr.predict(X_test)"
      ],
      "metadata": {
        "id": "XgWISQdZtPem"
      },
      "execution_count": 176,
      "outputs": []
    },
    {
      "cell_type": "markdown",
      "source": [
        "**Đánh giá mô hình**"
      ],
      "metadata": {
        "id": "-1jQk_orv1xV"
      }
    },
    {
      "cell_type": "code",
      "source": [
        "\n",
        "from sklearn.metrics import accuracy_score, f1_score, mean_squared_error\n",
        "\n",
        "accuracy = accuracy_score(y_test, y_pred)\n",
        "f1 = f1_score(y_test, y_pred)\n",
        "rmse = np.sqrt(mean_squared_error(y_test, y_pred))\n",
        "\n",
        "# In kết quả\n",
        "print(f\"Accuracy: {accuracy}\")\n",
        "print(f\"F1-Score: {f1}\")\n",
        "print(f\"RMSE: {rmse}\")"
      ],
      "metadata": {
        "colab": {
          "base_uri": "https://localhost:8080/"
        },
        "id": "dGKNsKdcvuw1",
        "outputId": "77ee817d-7830-447d-afec-52107c59cd64"
      },
      "execution_count": 177,
      "outputs": [
        {
          "output_type": "stream",
          "name": "stdout",
          "text": [
            "Accuracy: 0.767175572519084\n",
            "F1-Score: 0.46956521739130436\n",
            "RMSE: 0.4825188364001099\n"
          ]
        }
      ]
    },
    {
      "cell_type": "markdown",
      "source": [
        "#6.2 Xứ lý dữ liệu thiếu với MICE"
      ],
      "metadata": {
        "id": "Y6g_OpUcwaAP"
      }
    },
    {
      "cell_type": "markdown",
      "source": [
        "**MICE**"
      ],
      "metadata": {
        "id": "KqHUtQ7RwlfX"
      }
    },
    {
      "cell_type": "code",
      "source": [
        "df = pd.read_csv('titanic.csv')"
      ],
      "metadata": {
        "id": "dWZ1p0dbwfOn"
      },
      "execution_count": 191,
      "outputs": []
    },
    {
      "cell_type": "code",
      "source": [
        "df.info()"
      ],
      "metadata": {
        "colab": {
          "base_uri": "https://localhost:8080/"
        },
        "id": "n2P-m3T1whXw",
        "outputId": "67421dca-531a-4052-8c48-4809e46c0bf9"
      },
      "execution_count": 192,
      "outputs": [
        {
          "output_type": "stream",
          "name": "stdout",
          "text": [
            "<class 'pandas.core.frame.DataFrame'>\n",
            "RangeIndex: 1309 entries, 0 to 1308\n",
            "Data columns (total 13 columns):\n",
            " #   Column       Non-Null Count  Dtype  \n",
            "---  ------       --------------  -----  \n",
            " 0   Unnamed: 0   1309 non-null   int64  \n",
            " 1   PassengerId  1309 non-null   int64  \n",
            " 2   Survived     891 non-null    float64\n",
            " 3   Pclass       1309 non-null   int64  \n",
            " 4   Name         1309 non-null   object \n",
            " 5   Sex          1309 non-null   object \n",
            " 6   Age          1046 non-null   float64\n",
            " 7   SibSp        1309 non-null   int64  \n",
            " 8   Parch        1309 non-null   int64  \n",
            " 9   Ticket       1309 non-null   object \n",
            " 10  Fare         1308 non-null   float64\n",
            " 11  Cabin        295 non-null    object \n",
            " 12  Embarked     1307 non-null   object \n",
            "dtypes: float64(3), int64(5), object(5)\n",
            "memory usage: 133.1+ KB\n"
          ]
        }
      ]
    },
    {
      "cell_type": "code",
      "source": [
        "# Thay thế giá trị thiếu trong Survived bằng Mode Imputation\n",
        "from sklearn.impute import SimpleImputer\n",
        "\n",
        "# Khởi tạo SimpleImputer với chiến lược 'most_frequent' (giá trị phổ biến nhất)\n",
        "imputer_survived = SimpleImputer(strategy='most_frequent')\n",
        "\n",
        "# Áp dụng SimpleImputer cho cột 'Survived'\n",
        "df['Survived'] = imputer_survived.fit_transform(df[['Survived']])\n",
        "\n",
        "# Kiểm tra lại sau khi thay thế giá trị thiếu trong 'Survived'\n",
        "print(df['Survived'].head())\n"
      ],
      "metadata": {
        "colab": {
          "base_uri": "https://localhost:8080/"
        },
        "id": "0yyzws0WyUSO",
        "outputId": "30069443-19ad-48c7-c075-4a226c655e16"
      },
      "execution_count": 193,
      "outputs": [
        {
          "output_type": "stream",
          "name": "stdout",
          "text": [
            "0    0.0\n",
            "1    1.0\n",
            "2    1.0\n",
            "3    1.0\n",
            "4    0.0\n",
            "Name: Survived, dtype: float64\n"
          ]
        }
      ]
    },
    {
      "cell_type": "code",
      "source": [
        "# Sử dụng MICE cho các cột còn lại\n",
        "from fancyimpute import IterativeImputer\n",
        "\n",
        "# Khởi tạo MICE (IterativeImputer)\n",
        "mice_imputer = IterativeImputer()\n",
        "\n",
        "# Áp dụng MICE cho toàn bộ bộ dữ liệu (bao gồm các cột có giá trị thiếu)\n",
        "df_imputed = mice_imputer.fit_transform(df.select_dtypes(include=['float64', 'int64']))\n",
        "\n",
        "# Chuyển đổi kết quả sau khi áp dụng MICE trở lại thành DataFrame\n",
        "df_imputed = pd.DataFrame(df_imputed, columns=df.select_dtypes(include=['float64', 'int64']).columns)\n",
        "\n",
        "# Thêm lại các cột không bị thay đổi (các cột 'object' như 'Name', 'Sex', 'Ticket', 'Cabin', 'Embarked')\n",
        "df_imputed['Name'] = df['Name']\n",
        "df_imputed['Sex'] = df['Sex']\n",
        "df_imputed['Ticket'] = df['Ticket']\n",
        "df_imputed['Cabin'] = df['Cabin']\n",
        "df_imputed['Embarked'] = df['Embarked']\n",
        "\n",
        "# Kiểm tra lại sau khi áp dụng MICE\n",
        "print(df_imputed.info())\n"
      ],
      "metadata": {
        "colab": {
          "base_uri": "https://localhost:8080/"
        },
        "id": "ZYnEhkPzyWtA",
        "outputId": "309b088f-1b94-4f3c-a44b-6dd1058215b3"
      },
      "execution_count": 194,
      "outputs": [
        {
          "output_type": "stream",
          "name": "stdout",
          "text": [
            "<class 'pandas.core.frame.DataFrame'>\n",
            "RangeIndex: 1309 entries, 0 to 1308\n",
            "Data columns (total 13 columns):\n",
            " #   Column       Non-Null Count  Dtype  \n",
            "---  ------       --------------  -----  \n",
            " 0   Unnamed: 0   1309 non-null   float64\n",
            " 1   PassengerId  1309 non-null   float64\n",
            " 2   Survived     1309 non-null   float64\n",
            " 3   Pclass       1309 non-null   float64\n",
            " 4   Age          1309 non-null   float64\n",
            " 5   SibSp        1309 non-null   float64\n",
            " 6   Parch        1309 non-null   float64\n",
            " 7   Fare         1309 non-null   float64\n",
            " 8   Name         1309 non-null   object \n",
            " 9   Sex          1309 non-null   object \n",
            " 10  Ticket       1309 non-null   object \n",
            " 11  Cabin        295 non-null    object \n",
            " 12  Embarked     1307 non-null   object \n",
            "dtypes: float64(8), object(5)\n",
            "memory usage: 133.1+ KB\n",
            "None\n"
          ]
        }
      ]
    },
    {
      "cell_type": "markdown",
      "source": [
        "**Mã hóa các cột phân loại**"
      ],
      "metadata": {
        "id": "cG4ShPL3xNtb"
      }
    },
    {
      "cell_type": "code",
      "source": [
        "from sklearn.preprocessing import LabelEncoder\n",
        "\n",
        "# Mã hóa cột 'Sex'\n",
        "label_encoder = LabelEncoder()\n",
        "df_imputed['Sex'] = label_encoder.fit_transform(df_imputed['Sex'])\n",
        "\n",
        "# Mã hóa cột 'Embarked' với One-Hot Encoding\n",
        "df_imputed = pd.get_dummies(df_imputed, columns=['Embarked'], drop_first=True)\n",
        "\n",
        "# Kiểm tra lại sau khi mã hóa\n",
        "print(df_imputed.head())"
      ],
      "metadata": {
        "colab": {
          "base_uri": "https://localhost:8080/"
        },
        "id": "gWDA-hbPygYk",
        "outputId": "025cdddd-b32b-4970-b815-778c8f186fd8"
      },
      "execution_count": 195,
      "outputs": [
        {
          "output_type": "stream",
          "name": "stdout",
          "text": [
            "   Unnamed: 0  PassengerId  Survived  Pclass   Age  SibSp  Parch     Fare  \\\n",
            "0         0.0          1.0       0.0     3.0  22.0    1.0    0.0   7.2500   \n",
            "1         1.0          2.0       1.0     1.0  38.0    1.0    0.0  71.2833   \n",
            "2         2.0          3.0       1.0     3.0  26.0    0.0    0.0   7.9250   \n",
            "3         3.0          4.0       1.0     1.0  35.0    1.0    0.0  53.1000   \n",
            "4         4.0          5.0       0.0     3.0  35.0    0.0    0.0   8.0500   \n",
            "\n",
            "                                                Name  Sex            Ticket  \\\n",
            "0                            Braund, Mr. Owen Harris    1         A/5 21171   \n",
            "1  Cumings, Mrs. John Bradley (Florence Briggs Th...    0          PC 17599   \n",
            "2                             Heikkinen, Miss. Laina    0  STON/O2. 3101282   \n",
            "3       Futrelle, Mrs. Jacques Heath (Lily May Peel)    0            113803   \n",
            "4                           Allen, Mr. William Henry    1            373450   \n",
            "\n",
            "  Cabin  Embarked_Q  Embarked_S  \n",
            "0   NaN       False        True  \n",
            "1   C85       False       False  \n",
            "2   NaN       False        True  \n",
            "3  C123       False        True  \n",
            "4   NaN       False        True  \n"
          ]
        }
      ]
    },
    {
      "cell_type": "markdown",
      "source": [
        "**Loại bỏ các cột không cần thiết**"
      ],
      "metadata": {
        "id": "WbfAUT0exYiq"
      }
    },
    {
      "cell_type": "code",
      "source": [
        "# Loại bỏ các cột không cần thiết\n",
        "X = df_imputed.drop(['Survived', 'Unnamed: 0', 'PassengerId', 'Name', 'Ticket', 'Cabin'], axis=1)\n",
        "y = df_imputed['Survived']  # Cột mục tiêu\n",
        "\n",
        "# Kiểm tra lại sau khi loại bỏ\n",
        "print(X.head())\n"
      ],
      "metadata": {
        "colab": {
          "base_uri": "https://localhost:8080/"
        },
        "id": "nl8S_9jjxVJo",
        "outputId": "0706ed95-d37b-42da-97d2-92f7bf7ca7ec"
      },
      "execution_count": 196,
      "outputs": [
        {
          "output_type": "stream",
          "name": "stdout",
          "text": [
            "   Pclass   Age  SibSp  Parch     Fare  Sex  Embarked_Q  Embarked_S\n",
            "0     3.0  22.0    1.0    0.0   7.2500    1       False        True\n",
            "1     1.0  38.0    1.0    0.0  71.2833    0       False       False\n",
            "2     3.0  26.0    0.0    0.0   7.9250    0       False        True\n",
            "3     1.0  35.0    1.0    0.0  53.1000    0       False        True\n",
            "4     3.0  35.0    0.0    0.0   8.0500    1       False        True\n"
          ]
        }
      ]
    },
    {
      "cell_type": "markdown",
      "source": [
        "**Chia dữ liệu thành tập huấn luyện và kiểm tra**"
      ],
      "metadata": {
        "id": "2K6gelEexc9S"
      }
    },
    {
      "cell_type": "code",
      "source": [
        "from sklearn.model_selection import train_test_split\n",
        "\n",
        "# Chia dữ liệu thành tập huấn luyện và tập kiểm tra (80% huấn luyện, 20% kiểm tra)\n",
        "X_train, X_test, y_train, y_test = train_test_split(X, y, test_size=0.2, random_state=42)\n",
        "\n",
        "# Kiểm tra kích thước dữ liệu huấn luyện và kiểm tra\n",
        "print(X_train.shape, X_test.shape)\n"
      ],
      "metadata": {
        "colab": {
          "base_uri": "https://localhost:8080/"
        },
        "id": "RBoA-ZI8xbgT",
        "outputId": "0f4092d5-44c3-4c68-847b-d817c09b82fa"
      },
      "execution_count": 197,
      "outputs": [
        {
          "output_type": "stream",
          "name": "stdout",
          "text": [
            "(1047, 8) (262, 8)\n"
          ]
        }
      ]
    },
    {
      "cell_type": "markdown",
      "source": [
        "**Huấn luyện mô hình Logistic Regression và đánh giá**"
      ],
      "metadata": {
        "id": "RugSJhJ2yktH"
      }
    },
    {
      "cell_type": "code",
      "source": [
        "from sklearn.linear_model import LogisticRegression\n",
        "\n",
        "# Khởi tạo mô hình Logistic Regression\n",
        "lr = LogisticRegression(max_iter=1000)\n",
        "\n",
        "# Huấn luyện mô hình với dữ liệu huấn luyện\n",
        "lr.fit(X_train, y_train)\n",
        "\n",
        "# Dự đoán trên tập kiểm tra\n",
        "y_pred = lr.predict(X_test)\n",
        "\n",
        "# Đánh giá mô hình\n",
        "from sklearn.metrics import accuracy_score, f1_score, mean_squared_error\n",
        "\n",
        "accuracy = accuracy_score(y_test, y_pred)\n",
        "f1 = f1_score(y_test, y_pred)\n",
        "rmse = np.sqrt(mean_squared_error(y_test, y_pred))\n",
        "\n",
        "# In kết quả\n",
        "print(f\"Accuracy: {accuracy}\")\n",
        "print(f\"F1-Score: {f1}\")\n",
        "print(f\"RMSE: {rmse}\")\n"
      ],
      "metadata": {
        "colab": {
          "base_uri": "https://localhost:8080/"
        },
        "id": "E3wIoV4tylxd",
        "outputId": "526f57b8-8db6-4aff-975a-be281b68eee6"
      },
      "execution_count": 198,
      "outputs": [
        {
          "output_type": "stream",
          "name": "stdout",
          "text": [
            "Accuracy: 0.7748091603053435\n",
            "F1-Score: 0.48695652173913045\n",
            "RMSE: 0.4745427690890005\n"
          ]
        }
      ]
    }
  ]
}